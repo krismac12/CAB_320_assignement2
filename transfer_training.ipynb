{
 "cells": [
  {
   "attachments": {},
   "cell_type": "markdown",
   "metadata": {},
   "source": [
    "Section 1: Data Loading and Preprocessing\n"
   ]
  },
  {
   "cell_type": "code",
   "execution_count": 1,
   "metadata": {},
   "outputs": [],
   "source": [
    "from PIL import Image\n",
    "import numpy as np\n",
    "import os\n",
    "from keras.utils import to_categorical\n",
    "\n",
    "# Define image size\n",
    "IMG_SIZE = 224\n",
    "\n",
    "# Define categories and their labels\n",
    "CATEGORIES = {\"daisy\": 0, \"dandelion\": 1, \"roses\": 2, \"sunflowers\": 3, \"tulips\": 4}\n",
    "\n",
    "# Initialize X and y arrays\n",
    "X = []\n",
    "y = []\n",
    "label_counts = {0: 0, 1: 0, 2: 0, 3: 0, 4: 0}  # keep track of the number of images added for each category\n",
    "categories = list(CATEGORIES.keys())  # get a list of category names\n",
    "while True:\n",
    "    stop = True\n",
    "    for category in categories:\n",
    "        if label_counts[CATEGORIES[category]] < len(os.listdir(os.path.join(\"small_flower_dataset\", category))):\n",
    "            # Load the next image and add it to X and y\n",
    "            image_path = os.path.join(\"small_flower_dataset\", category, os.listdir(os.path.join(\"small_flower_dataset\", category))[label_counts[CATEGORIES[category]]])\n",
    "            image = Image.open(image_path).resize((IMG_SIZE, IMG_SIZE))\n",
    "            image_array = np.array(image)\n",
    "            X.append(image_array)\n",
    "            y.append(CATEGORIES[category])\n",
    "            label_counts[CATEGORIES[category]] += 1\n",
    "            stop = False\n",
    "    if stop:\n",
    "        break\n",
    "\n",
    "# Convert X and y to numpy arrays\n",
    "X = np.array(X)\n",
    "y = np.array(y)\n",
    "\n",
    "# Split the data into train, Test and validation sets\n",
    "split1 = int(len(X) * 0.6)  # 60% train\n",
    "split2 = int(len(X) * 0.8)  # 20% validation\n",
    "\n",
    "# Create the train set\n",
    "X_train, y_train = X[:split1], y[:split1]\n",
    "\n",
    "# Create the validation set\n",
    "X_val, y_val = X[split1:split2], y[split1:split2]\n",
    "\n",
    "# Create the test set\n",
    "X_test, y_test = X[split2:], y[split2:]\n",
    "\n",
    "num_classes = len(CATEGORIES)\n",
    "y_train = to_categorical(y_train, num_classes=num_classes)\n",
    "y_val = to_categorical(y_val, num_classes=num_classes)\n",
    "y_test = to_categorical(y_test, num_classes=num_classes)\n"
   ]
  },
  {
   "attachments": {},
   "cell_type": "markdown",
   "metadata": {},
   "source": [
    "Section 2: Model Training"
   ]
  },
  {
   "cell_type": "code",
   "execution_count": 2,
   "metadata": {},
   "outputs": [
    {
     "name": "stdout",
     "output_type": "stream",
     "text": [
      "Epoch 1/25\n",
      "19/19 [==============================] - 27s 1s/step - loss: 16.8603 - accuracy: 0.2417 - val_loss: 17.3193 - val_accuracy: 0.3450\n",
      "Epoch 2/25\n",
      "19/19 [==============================] - 20s 1s/step - loss: 8.8404 - accuracy: 0.5483 - val_loss: 10.3336 - val_accuracy: 0.4300\n",
      "Epoch 3/25\n",
      "19/19 [==============================] - 20s 1s/step - loss: 3.1718 - accuracy: 0.7250 - val_loss: 7.1257 - val_accuracy: 0.4950\n",
      "Epoch 4/25\n",
      "19/19 [==============================] - 20s 1s/step - loss: 1.7044 - accuracy: 0.8150 - val_loss: 7.4732 - val_accuracy: 0.4950\n",
      "Epoch 5/25\n",
      "19/19 [==============================] - 20s 1s/step - loss: 1.2947 - accuracy: 0.8600 - val_loss: 6.2685 - val_accuracy: 0.5350\n",
      "Epoch 6/25\n",
      "19/19 [==============================] - 20s 1s/step - loss: 0.2956 - accuracy: 0.9433 - val_loss: 5.5694 - val_accuracy: 0.5100\n",
      "Epoch 7/25\n",
      "19/19 [==============================] - 21s 1s/step - loss: 0.1251 - accuracy: 0.9700 - val_loss: 5.8931 - val_accuracy: 0.5150\n",
      "Epoch 8/25\n",
      "19/19 [==============================] - 20s 1s/step - loss: 0.0893 - accuracy: 0.9783 - val_loss: 5.9746 - val_accuracy: 0.5100\n",
      "Epoch 9/25\n",
      "19/19 [==============================] - 20s 1s/step - loss: 0.0491 - accuracy: 0.9850 - val_loss: 6.3807 - val_accuracy: 0.4650\n",
      "Epoch 10/25\n",
      "19/19 [==============================] - 20s 1s/step - loss: 0.1336 - accuracy: 0.9733 - val_loss: 6.8056 - val_accuracy: 0.4950\n",
      "Epoch 11/25\n",
      "19/19 [==============================] - 20s 1s/step - loss: 0.0248 - accuracy: 0.9917 - val_loss: 6.0684 - val_accuracy: 0.5100\n",
      "Epoch 12/25\n",
      "19/19 [==============================] - 20s 1s/step - loss: 0.0368 - accuracy: 0.9833 - val_loss: 6.4255 - val_accuracy: 0.5350\n",
      "Epoch 13/25\n",
      "19/19 [==============================] - 20s 1s/step - loss: 0.0375 - accuracy: 0.9900 - val_loss: 6.6414 - val_accuracy: 0.4950\n",
      "Epoch 14/25\n",
      "19/19 [==============================] - 20s 1s/step - loss: 0.0071 - accuracy: 0.9983 - val_loss: 5.9167 - val_accuracy: 0.5350\n",
      "Epoch 15/25\n",
      "19/19 [==============================] - 20s 1s/step - loss: 8.0540e-04 - accuracy: 1.0000 - val_loss: 5.5330 - val_accuracy: 0.5200\n",
      "Epoch 16/25\n",
      "19/19 [==============================] - 20s 1s/step - loss: 3.6405e-05 - accuracy: 1.0000 - val_loss: 5.4619 - val_accuracy: 0.5450\n",
      "Epoch 17/25\n",
      "19/19 [==============================] - 21s 1s/step - loss: 2.4746e-05 - accuracy: 1.0000 - val_loss: 5.4536 - val_accuracy: 0.5400\n",
      "Epoch 18/25\n",
      "19/19 [==============================] - 20s 1s/step - loss: 2.2874e-05 - accuracy: 1.0000 - val_loss: 5.4510 - val_accuracy: 0.5400\n",
      "Epoch 19/25\n",
      "19/19 [==============================] - 20s 1s/step - loss: 2.1955e-05 - accuracy: 1.0000 - val_loss: 5.4485 - val_accuracy: 0.5400\n",
      "Epoch 20/25\n",
      "19/19 [==============================] - 22s 1s/step - loss: 2.0813e-05 - accuracy: 1.0000 - val_loss: 5.4472 - val_accuracy: 0.5400\n",
      "Epoch 21/25\n",
      "19/19 [==============================] - 20s 1s/step - loss: 2.0030e-05 - accuracy: 1.0000 - val_loss: 5.4458 - val_accuracy: 0.5400\n",
      "Epoch 22/25\n",
      "19/19 [==============================] - 20s 1s/step - loss: 1.9469e-05 - accuracy: 1.0000 - val_loss: 5.4459 - val_accuracy: 0.5400\n",
      "Epoch 23/25\n",
      "19/19 [==============================] - 20s 1s/step - loss: 1.8970e-05 - accuracy: 1.0000 - val_loss: 5.4444 - val_accuracy: 0.5400\n",
      "Epoch 24/25\n",
      "19/19 [==============================] - 22s 1s/step - loss: 1.8446e-05 - accuracy: 1.0000 - val_loss: 5.4444 - val_accuracy: 0.5400\n",
      "Epoch 25/25\n",
      "19/19 [==============================] - 22s 1s/step - loss: 1.7931e-05 - accuracy: 1.0000 - val_loss: 5.4437 - val_accuracy: 0.5400\n"
     ]
    },
    {
     "data": {
      "text/plain": [
       "<keras.callbacks.History at 0x2a0d404e0e0>"
      ]
     },
     "execution_count": 2,
     "metadata": {},
     "output_type": "execute_result"
    }
   ],
   "source": [
    "import tensorflow as tf\n",
    "from tensorflow.keras.applications import MobileNetV2\n",
    "from tensorflow.keras.layers import Dense, Flatten\n",
    "from tensorflow.keras.models import Model\n",
    "from tensorflow.keras.optimizers import SGD\n",
    "from keras.utils import to_categorical\n",
    "\n",
    "# Load the MobileNetV2 model pre-trained on ImageNet\n",
    "base_model = MobileNetV2(input_shape=(224, 224, 3), include_top=False, weights='imagenet')\n",
    "\n",
    "# Freeze all the layers in the base model\n",
    "for layer in base_model.layers:\n",
    "    layer.trainable = False\n",
    "\n",
    "# Add your own output layer with 5 neurons and a softmax activation function\n",
    "x = Flatten()(base_model.output)\n",
    "x = Dense(5, activation='softmax')(x)\n",
    "\n",
    "# Create a new model that includes both the pre-trained base model and your custom output layer\n",
    "model = Model(inputs=base_model.input, outputs=x)\n",
    "\n",
    "# Define the optimizer\n",
    "optimizer = SGD(learning_rate=0.001, momentum=0.9, nesterov=False)\n",
    "\n",
    "# Compile the model with an appropriate optimizer, loss function, and metrics\n",
    "model.compile(optimizer=optimizer, loss='categorical_crossentropy', metrics=['accuracy'])\n",
    "\n",
    "\n",
    "# Train the model on your own dataset\n",
    "model.fit(X_train, y_train, epochs=25, validation_data=(X_val, y_val))\n"
   ]
  },
  {
   "attachments": {},
   "cell_type": "markdown",
   "metadata": {},
   "source": [
    "Section 3: Prediction and Visualization"
   ]
  },
  {
   "cell_type": "code",
   "execution_count": 1,
   "metadata": {},
   "outputs": [
    {
     "ename": "NameError",
     "evalue": "name 'model' is not defined",
     "output_type": "error",
     "traceback": [
      "\u001b[1;31m---------------------------------------------------------------------------\u001b[0m",
      "\u001b[1;31mNameError\u001b[0m                                 Traceback (most recent call last)",
      "Cell \u001b[1;32mIn[1], line 5\u001b[0m\n\u001b[0;32m      2\u001b[0m \u001b[39mimport\u001b[39;00m \u001b[39mmatplotlib\u001b[39;00m\u001b[39m.\u001b[39;00m\u001b[39mpyplot\u001b[39;00m \u001b[39mas\u001b[39;00m \u001b[39mplt\u001b[39;00m\n\u001b[0;32m      4\u001b[0m \u001b[39m# Predict the first 10 results in X_test\u001b[39;00m\n\u001b[1;32m----> 5\u001b[0m y_pred \u001b[39m=\u001b[39m model\u001b[39m.\u001b[39mpredict(X_train[\u001b[39m0\u001b[39m:\u001b[39m50\u001b[39m])\n\u001b[0;32m      6\u001b[0m y_pred_labels \u001b[39m=\u001b[39m [\u001b[39mlist\u001b[39m(CATEGORIES\u001b[39m.\u001b[39mkeys())[\u001b[39mlist\u001b[39m(CATEGORIES\u001b[39m.\u001b[39mvalues())\u001b[39m.\u001b[39mindex(np\u001b[39m.\u001b[39margmax(p))] \u001b[39mfor\u001b[39;00m p \u001b[39min\u001b[39;00m y_pred]\n\u001b[0;32m      8\u001b[0m \u001b[39m# Convert the one-hot encoded true labels to labels\u001b[39;00m\n",
      "\u001b[1;31mNameError\u001b[0m: name 'model' is not defined"
     ]
    }
   ],
   "source": [
    "import numpy as np\n",
    "import matplotlib.pyplot as plt\n",
    "\n",
    "# Predict the first 10 results in X_test\n",
    "y_pred = model.predict(X_test)\n",
    "y_pred_labels = [list(CATEGORIES.keys())[list(CATEGORIES.values()).index(np.argmax(p))] for p in y_pred]\n",
    "\n",
    "# Convert the one-hot encoded true labels to labels\n",
    "y_true_labels = list(y_test)\n",
    "true_labels = []\n",
    "for label in y_true_labels:\n",
    "    true_labels.append(list(CATEGORIES.keys())[list(CATEGORIES.values()).index(np.argmax(label))])\n",
    "\n",
    "fig, axes = plt.subplots(nrows=5, ncols=10, figsize=(20,10))\n",
    "\n",
    "for i, ax in enumerate(axes.flat):\n",
    "    ax.imshow(X_test[i])\n",
    "    ax.set_xticks([])\n",
    "    ax.set_yticks([])\n",
    "    ax.set_title(f\"True: {true_labels[i]}\\nPredicted: {y_pred_labels[i]}\")\n",
    "\n",
    "plt.tight_layout()\n",
    "plt.show()\n"
   ]
  }
 ],
 "metadata": {
  "kernelspec": {
   "display_name": "Python 3",
   "language": "python",
   "name": "python3"
  },
  "language_info": {
   "codemirror_mode": {
    "name": "ipython",
    "version": 3
   },
   "file_extension": ".py",
   "mimetype": "text/x-python",
   "name": "python",
   "nbconvert_exporter": "python",
   "pygments_lexer": "ipython3",
   "version": "3.10.11"
  },
  "orig_nbformat": 4
 },
 "nbformat": 4,
 "nbformat_minor": 2
}
